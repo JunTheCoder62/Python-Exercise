{
 "cells": [
  {
   "cell_type": "markdown",
   "metadata": {},
   "source": [
    "<!-- Variabel dan tipe data -->"
   ]
  },
  {
   "cell_type": "code",
   "execution_count": 1,
   "metadata": {},
   "outputs": [
    {
     "name": "stdout",
     "output_type": "stream",
     "text": [
      "Nama:Juniyara, Umur:22, Berat:104.5\n"
     ]
    }
   ],
   "source": [
    "# Exercise 1\n",
    "nama = str(input(\"masukan nama\"))\n",
    "umur = int(input(\"masukan umur\"))\n",
    "berat = float(input(\"masukan berat badan\"))\n",
    "\n",
    "print(f\"Nama:{nama}, Umur:{umur}, Berat:{berat}\")\n"
   ]
  },
  {
   "cell_type": "code",
   "execution_count": 11,
   "metadata": {},
   "outputs": [
    {
     "name": "stdout",
     "output_type": "stream",
     "text": [
      "hasil:5.0\n"
     ]
    }
   ],
   "source": [
    "# Exercise 2\n",
    "\n",
    "a = float(input(\"masukan Bilangan\"))\n",
    "b = float(input(\"Masukan bilangan\"))\n",
    "\n",
    "pilih = input(\"+, -, x, /, %\")\n",
    "\n",
    "if pilih == '+':\n",
    "    hasil = a + b\n",
    "    print(f\"hasil:{hasil}\")\n",
    "elif pilih == '-':\n",
    "    hasil = a - b\n",
    "    print(f\"hasil:{hasil}\")\n",
    "elif pilih == 'x':\n",
    "    hasil = a * b\n",
    "    print(f\"hasil:{hasil}\")\n",
    "elif pilih == '/':\n",
    "    hasil = a / b\n",
    "    print(f\"hasil:{hasil}\")\n",
    "elif pilih == '%':\n",
    "    hasil = a % b\n",
    "    print(f\"hasil:{hasil}\")\n",
    "\n",
    "else:\n",
    "    print(\"salah input\")"
   ]
  },
  {
   "cell_type": "code",
   "execution_count": 12,
   "metadata": {},
   "outputs": [
    {
     "name": "stdout",
     "output_type": "stream",
     "text": [
      "\n",
      "Hasil perhitungan:\n",
      "Penjumlahan: 2 + 4 = 6\n",
      "Pengurangan: 2 - 4 = -2\n",
      "Perkalian: 2 * 4 = 8\n",
      "Pembagian: 2 / 4 = 0.5\n",
      "Sisa bagi: 2 % 4 = 2\n"
     ]
    }
   ],
   "source": [
    "a = int(input(\"Masukkan bilangan bulat pertama: \"))\n",
    "b = int(input(\"Masukkan bilangan bulat kedua: \"))\n",
    "\n",
    "penjumlahan = a + b\n",
    "pengurangan = a - b\n",
    "perkalian = a * b\n",
    "pembagian = a / b  \n",
    "sisa_bagi = a % b  \n",
    "\n",
    "print(\"\\nHasil perhitungan:\")\n",
    "print(f\"Penjumlahan: {a} + {b} = {penjumlahan}\")\n",
    "print(f\"Pengurangan: {a} - {b} = {pengurangan}\")\n",
    "print(f\"Perkalian: {a} * {b} = {perkalian}\")\n",
    "print(f\"Pembagian: {a} / {b} = {pembagian}\")\n",
    "print(f\"Sisa bagi: {a} % {b} = {sisa_bagi}\")"
   ]
  },
  {
   "cell_type": "code",
   "execution_count": 14,
   "metadata": {},
   "outputs": [
    {
     "name": "stdout",
     "output_type": "stream",
     "text": [
      "Nilai : F\n"
     ]
    }
   ],
   "source": [
    "# Exercise 3\n",
    "\n",
    "Nilai_Ujian = float(input(\"Masukan Nilai Ujian:\"))\n",
    "if Nilai_Ujian >= 90:\n",
    "    print(f\"nilai : A\")\n",
    "elif Nilai_Ujian >= 80:\n",
    "    print(f\"nilai : B\")\n",
    "elif Nilai_Ujian >= 70:\n",
    "    print(f\"nilai : C\")\n",
    "elif Nilai_Ujian >= 60:\n",
    "    print(f\"nilai : D\")\n",
    "else:\n",
    "    print(f\"Nilai : F\")"
   ]
  },
  {
   "cell_type": "code",
   "execution_count": null,
   "metadata": {},
   "outputs": [],
   "source": [
    "# Exercise 4\n",
    "\n",
    "a = int(input(\"masukan Angka:\"))\n",
    "for i in range(1, 10):\n",
    "    print(i)"
   ]
  },
  {
   "cell_type": "code",
   "execution_count": null,
   "metadata": {},
   "outputs": [],
   "source": [
    "angka = int(input(\"Masukkan angka: \"))\n",
    "\n",
    "i = 1\n",
    "while i <= angka:\n",
    "    print(i)\n",
    "    i += 1"
   ]
  },
  {
   "cell_type": "code",
   "execution_count": 8,
   "metadata": {},
   "outputs": [
    {
     "name": "stdout",
     "output_type": "stream",
     "text": [
      "Faktroal daari 5, adalah 120\n"
     ]
    }
   ],
   "source": [
    "# Exercise 5\n",
    "\n",
    "def faktorial(n):\n",
    "    if n == 0 or n == 1:\n",
    "        return 1\n",
    "    \n",
    "    else:\n",
    "        hasil_faktorial = 1\n",
    "        for i in range(2, n + 1):\n",
    "            hasil_faktorial *= i\n",
    "        return hasil_faktorial\n",
    "n = 5\n",
    "\n",
    "print(f\"Faktroal daari {n}, adalah {faktorial(n)}\")"
   ]
  },
  {
   "cell_type": "code",
   "execution_count": 2,
   "metadata": {},
   "outputs": [
    {
     "name": "stdout",
     "output_type": "stream",
     "text": [
      "g\n",
      "f\n",
      "d\n",
      "s\n",
      "a\n"
     ]
    }
   ],
   "source": [
    "# Exercise 6\n",
    "\n",
    "daftar_buah = []\n",
    "\n",
    "for i in range(5):\n",
    "    buah = input(f\"Masukan Buah {i + 1}\")\n",
    "    daftar_buah.append(buah)\n",
    "\n",
    "for buah in reversed(daftar_buah):\n",
    "    print(buah)"
   ]
  },
  {
   "cell_type": "code",
   "execution_count": 6,
   "metadata": {},
   "outputs": [
    {
     "name": "stdout",
     "output_type": "stream",
     "text": [
      "Nama : apel, Harga : 9000\n",
      "Nama : mangga, Harga : 7000\n",
      "Nama : Jeruk, Harga : 6000\n",
      "Nama : Pisang, Harga : 4000\n",
      "Nama : Anggur, Harga : 8000\n"
     ]
    }
   ],
   "source": [
    "# Exercise 7\n",
    "\n",
    "Dictionary_buah = {\"apel\" : 9000,\n",
    "                   \"mangga\" : 7000,\n",
    "                   \"Jeruk\" : 6000,\n",
    "                   \"Pisang\" : 4000,\n",
    "                   \"Anggur\" : 8000}\n",
    "\n",
    "for buah_dict, harga in Dictionary_buah.items():\n",
    "    print(f\"Nama : {buah_dict}, Harga : {harga}\")"
   ]
  },
  {
   "cell_type": "code",
   "execution_count": 7,
   "metadata": {},
   "outputs": [],
   "source": [
    "# Exercise 8\n",
    "\n",
    "def is_even(n):\n",
    "    return n % 2 == 0"
   ]
  },
  {
   "cell_type": "code",
   "execution_count": 9,
   "metadata": {},
   "outputs": [
    {
     "name": "stdout",
     "output_type": "stream",
     "text": [
      "10 bilangan genap, True\n"
     ]
    }
   ],
   "source": [
    "n = 10\n",
    "print(f\"{n} bilangan genap, {is_even(n)}\")"
   ]
  },
  {
   "cell_type": "code",
   "execution_count": 11,
   "metadata": {},
   "outputs": [
    {
     "data": {
      "text/plain": [
       "0.375"
      ]
     },
     "execution_count": 11,
     "metadata": {},
     "output_type": "execute_result"
    }
   ],
   "source": [
    "# Exercise 9\n",
    "\n",
    "import math_operations\n",
    "\n",
    "math_operations.pembagian(3, 8)\n"
   ]
  }
 ],
 "metadata": {
  "kernelspec": {
   "display_name": "Python 3",
   "language": "python",
   "name": "python3"
  },
  "language_info": {
   "codemirror_mode": {
    "name": "ipython",
    "version": 3
   },
   "file_extension": ".py",
   "mimetype": "text/x-python",
   "name": "python",
   "nbconvert_exporter": "python",
   "pygments_lexer": "ipython3",
   "version": "3.11.9"
  }
 },
 "nbformat": 4,
 "nbformat_minor": 2
}
