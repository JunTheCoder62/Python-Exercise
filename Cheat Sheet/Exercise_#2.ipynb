{
 "cells": [
  {
   "cell_type": "markdown",
   "metadata": {},
   "source": [
    "# Exercise 2"
   ]
  },
  {
   "cell_type": "code",
   "execution_count": null,
   "metadata": {},
   "outputs": [],
   "source": [
    "a = float(input(\"masukan Bilangan\"))\n",
    "b = float(input(\"Masukan bilangan\"))\n",
    "\n",
    "pilih = input(\"+, -, x, /, %\")\n",
    "\n",
    "if pilih == '+':\n",
    "    hasil = a + b\n",
    "    print(f\"hasil:{hasil}\")\n",
    "elif pilih == '-':\n",
    "    hasil = a - b\n",
    "    print(f\"hasil:{hasil}\")\n",
    "elif pilih == 'x':\n",
    "    hasil = a * b\n",
    "    print(f\"hasil:{hasil}\")\n",
    "elif pilih == '/':\n",
    "    hasil = a / b\n",
    "    print(f\"hasil:{hasil}\")\n",
    "elif pilih == '%':\n",
    "    hasil = a % b\n",
    "    print(f\"hasil:{hasil}\")\n",
    "\n",
    "else:\n",
    "    print(\"salah input\")"
   ]
  },
  {
   "cell_type": "code",
   "execution_count": null,
   "metadata": {},
   "outputs": [],
   "source": [
    "a = int(input(\"Masukkan bilangan bulat pertama: \"))\n",
    "b = int(input(\"Masukkan bilangan bulat kedua: \"))\n",
    "\n",
    "penjumlahan = a + b\n",
    "pengurangan = a - b\n",
    "perkalian = a * b\n",
    "pembagian = a / b  \n",
    "sisa_bagi = a % b  \n",
    "\n",
    "print(\"\\nHasil perhitungan:\")\n",
    "print(f\"Penjumlahan: {a} + {b} = {penjumlahan}\")\n",
    "print(f\"Pengurangan: {a} - {b} = {pengurangan}\")\n",
    "print(f\"Perkalian: {a} * {b} = {perkalian}\")\n",
    "print(f\"Pembagian: {a} / {b} = {pembagian}\")\n",
    "print(f\"Sisa bagi: {a} % {b} = {sisa_bagi}\")"
   ]
  }
 ],
 "metadata": {
  "kernelspec": {
   "display_name": "Python 3",
   "language": "python",
   "name": "python3"
  },
  "language_info": {
   "name": "python",
   "version": "3.11.9"
  }
 },
 "nbformat": 4,
 "nbformat_minor": 2
}
