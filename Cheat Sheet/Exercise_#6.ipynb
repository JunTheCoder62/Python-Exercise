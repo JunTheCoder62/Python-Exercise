{
 "cells": [
  {
   "cell_type": "markdown",
   "metadata": {},
   "source": [
    "# Exercise 6"
   ]
  },
  {
   "cell_type": "code",
   "execution_count": null,
   "metadata": {},
   "outputs": [],
   "source": [
    "daftar_buah = []\n",
    "\n",
    "for i in range(5):\n",
    "    buah = input(f\"Masukan Buah {i + 1}\")\n",
    "    daftar_buah.append(buah)\n",
    "\n",
    "for buah in reversed(daftar_buah):\n",
    "    print(buah)"
   ]
  }
 ],
 "metadata": {
  "kernelspec": {
   "display_name": "Python 3",
   "language": "python",
   "name": "python3"
  },
  "language_info": {
   "name": "python",
   "version": "3.11.9"
  }
 },
 "nbformat": 4,
 "nbformat_minor": 2
}
