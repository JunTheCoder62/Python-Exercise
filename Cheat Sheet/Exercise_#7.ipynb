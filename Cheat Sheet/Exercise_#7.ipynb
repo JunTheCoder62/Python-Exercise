{
 "cells": [
  {
   "cell_type": "markdown",
   "metadata": {},
   "source": [
    "# Exercise 7"
   ]
  },
  {
   "cell_type": "code",
   "execution_count": null,
   "metadata": {},
   "outputs": [],
   "source": [
    "Dictionary_buah = {\"apel\" : 9000,\n",
    "                   \"mangga\" : 7000,\n",
    "                   \"Jeruk\" : 6000,\n",
    "                   \"Pisang\" : 4000,\n",
    "                   \"Anggur\" : 8000}\n",
    "\n",
    "for buah_dict, harga in Dictionary_buah.items():\n",
    "    print(f\"Nama : {buah_dict}, Harga : {harga}\")"
   ]
  }
 ],
 "metadata": {
  "kernelspec": {
   "display_name": "Python 3",
   "language": "python",
   "name": "python3"
  },
  "language_info": {
   "name": "python",
   "version": "3.11.9"
  }
 },
 "nbformat": 4,
 "nbformat_minor": 2
}
