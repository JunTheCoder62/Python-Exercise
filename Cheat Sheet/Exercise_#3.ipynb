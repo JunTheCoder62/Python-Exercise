{
 "cells": [
  {
   "cell_type": "markdown",
   "metadata": {},
   "source": [
    "# Exercise 3"
   ]
  },
  {
   "cell_type": "code",
   "execution_count": null,
   "metadata": {},
   "outputs": [],
   "source": [
    "Nilai_Ujian = float(input(\"Masukan Nilai Ujian:\"))\n",
    "if Nilai_Ujian >= 90:\n",
    "    print(f\"nilai : A\")\n",
    "elif Nilai_Ujian >= 80:\n",
    "    print(f\"nilai : B\")\n",
    "elif Nilai_Ujian >= 70:\n",
    "    print(f\"nilai : C\")\n",
    "elif Nilai_Ujian >= 60:\n",
    "    print(f\"nilai : D\")\n",
    "else:\n",
    "    print(f\"Nilai : F\")"
   ]
  }
 ],
 "metadata": {
  "kernelspec": {
   "display_name": "Python 3",
   "language": "python",
   "name": "python3"
  },
  "language_info": {
   "codemirror_mode": {
    "name": "ipython",
    "version": 3
   },
   "file_extension": ".py",
   "mimetype": "text/x-python",
   "name": "python",
   "nbconvert_exporter": "python",
   "pygments_lexer": "ipython3",
   "version": "3.11.9"
  }
 },
 "nbformat": 4,
 "nbformat_minor": 2
}
